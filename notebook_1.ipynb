{
 "cells": [
  {
   "cell_type": "code",
   "execution_count": null,
   "id": "6f4fa9e7-c0ea-4e88-a734-548d1ef69e8d",
   "metadata": {},
   "outputs": [],
   "source": [
    "import pandas as pd\n",
    "import matplotlib.pyplot as plt\n",
    "import seaborn as sns\n",
    "\n",
    "#hist_url = \"https://drive.google.com/uc?export=download&id=1o66f5E4M0CYb9Xw9IVRnYxXbA_Jv09lP\"\n",
    "#sentiment_url = \"https://drive.google.com/uc?export=download&id=1WHig3qMCOuTBEJncqe0IY6YIaOfO4Yss\"\n",
    "\n",
    "hist_url = \"csv_files/historical_data.csv\"\n",
    "sentiment_url = \"csv_files/fear_greed_index.csv\"\n",
    "\n",
    "trades = pd.read_csv(hist_url)\n",
    "sentiment = pd.read_csv(sentiment_url)"
   ]
  },
  {
   "cell_type": "code",
   "execution_count": null,
   "id": "4cf7660a-cfca-4a09-b45d-24c142fa33ab",
   "metadata": {},
   "outputs": [],
   "source": [
    "trades['time'] = pd.to_datetime(trades['Timestamp IST'], format='%d-%m-%Y %H.%M')\n",
    "trades['date'] = trades['time'].dt.date\n",
    "\n",
    "print(trades.isnull().sum())  \n",
    "trades = trades.drop_duplicates()"
   ]
  },
  {
   "cell_type": "code",
   "execution_count": null,
   "id": "551fb687-95ff-43b6-a87b-43c440dff4bc",
   "metadata": {},
   "outputs": [],
   "source": [
    "sentiment.head()"
   ]
  },
  {
   "cell_type": "code",
   "execution_count": null,
   "id": "9bad78d8-202d-489b-bc92-ab384d4e3416",
   "metadata": {},
   "outputs": [],
   "source": [
    "sentiment['datetime'] = pd.to_datetime(sentiment['timestamp'], unit='s')\n",
    "sentiment['date'] = sentiment['datetime'].dt.date\n",
    "\n",
    "# Standardizing 'classification' to just 'Fear' or 'Greed'\n",
    "def simplify_classification(x):\n",
    "    if 'Fear' in x:\n",
    "        return 'Fear'\n",
    "    elif 'Greed' in x:\n",
    "        return 'Greed'\n",
    "    else:\n",
    "        return 'Neutral'  \n",
    "\n",
    "sentiment['Classification'] = sentiment['classification'].apply(simplify_classification)\n",
    "sentiment = sentiment[['date', 'Classification', 'value']]  "
   ]
  },
  {
   "cell_type": "code",
   "execution_count": null,
   "id": "0dd44667-7748-46a4-ace1-3e0e86e8c522",
   "metadata": {},
   "outputs": [],
   "source": [
    "print(sentiment.head())\n",
    "print(trades.head())"
   ]
  },
  {
   "cell_type": "code",
   "execution_count": null,
   "id": "4a29c76e-0fe9-4e16-a3ee-d543793a68fe",
   "metadata": {},
   "outputs": [],
   "source": [
    "merged = trades.merge(sentiment, left_on='date', right_on='date', how='left')\n",
    "merged.head()"
   ]
  },
  {
   "cell_type": "code",
   "execution_count": null,
   "id": "2d1f2df2-a672-471c-a5d5-f04385594165",
   "metadata": {},
   "outputs": [],
   "source": [
    "merged = merged[merged['Classification'].notnull()]"
   ]
  },
  {
   "cell_type": "code",
   "execution_count": null,
   "id": "43b06b6c-72f6-46e1-a09f-efaef7296079",
   "metadata": {},
   "outputs": [],
   "source": [
    "merged"
   ]
  },
  {
   "cell_type": "markdown",
   "id": "5c9a65bb-6cee-4199-97d4-4c1195f2fa4f",
   "metadata": {},
   "source": [
    "### Closed PnL vs Sentiment"
   ]
  },
  {
   "cell_type": "code",
   "execution_count": null,
   "id": "5bcb685a-559f-4702-9bc8-cd78a5364d1d",
   "metadata": {},
   "outputs": [],
   "source": [
    "plt.figure(figsize=(10,6))\n",
    "sns.boxplot(x='Classification', y='Closed PnL', data=merged, palette='coolwarm')\n",
    "plt.title('Profit/Loss Distribution Across Market Sentiment', fontsize=16)\n",
    "plt.xlabel('Market Sentiment')\n",
    "plt.ylabel('Closed PnL ($)')\n",
    "plt.grid(True, linestyle='--', alpha=0.5)\n",
    "plt.tight_layout()\n",
    "plt.savefig('outputs/pnl_vs_sentiment.png')\n",
    "plt.show()"
   ]
  },
  {
   "cell_type": "markdown",
   "id": "c7ad6038-7759-4b4d-a5ef-c5922befa73b",
   "metadata": {},
   "source": [
    "### Trade Size (USD) vs Sentiment"
   ]
  },
  {
   "cell_type": "code",
   "execution_count": null,
   "id": "cbeb5676-c2eb-4ed9-bcdb-967c84e9f90e",
   "metadata": {},
   "outputs": [],
   "source": [
    "plt.figure(figsize=(10,6))\n",
    "sns.violinplot(x='Classification', y='Size USD', data=merged, palette='Set2')\n",
    "plt.title('Trade Size Distribution During Fear vs Greed')\n",
    "plt.xlabel('Market Sentiment')\n",
    "plt.ylabel('Trade Size ($)')\n",
    "plt.grid(True, linestyle='--', alpha=0.5)\n",
    "plt.tight_layout()\n",
    "plt.savefig('outputs/trade_size_vs_sentiment.png')\n",
    "plt.show() "
   ]
  },
  {
   "cell_type": "markdown",
   "id": "5771de97-6818-4d69-92fa-f7752ace8101",
   "metadata": {},
   "source": [
    "### Trade Side (Buy/Sell) Count Per Sentiment"
   ]
  },
  {
   "cell_type": "code",
   "execution_count": null,
   "id": "9276e005-9efb-4b74-b0c5-490b950cbde3",
   "metadata": {},
   "outputs": [],
   "source": [
    "plt.figure(figsize=(10,6))\n",
    "sns.countplot(x='Side', hue='Classification', data=merged, palette='Set2')\n",
    "plt.title('Buy vs Sell Distribution During Fear vs Greed')\n",
    "plt.xlabel('Trade Side')\n",
    "plt.ylabel('Number of Trades')\n",
    "plt.grid(True, linestyle='--', alpha=0.5)\n",
    "plt.tight_layout()\n",
    "plt.savefig('outputs/side_sentiment_count.png')\n",
    "plt.show()"
   ]
  },
  {
   "cell_type": "markdown",
   "id": "5b70d921-f2fc-4e92-b134-bea2e9a8b550",
   "metadata": {},
   "source": [
    "### Top 10 Coins Traded by Sentiment"
   ]
  },
  {
   "cell_type": "code",
   "execution_count": null,
   "id": "0423b2f1-72da-4b2e-8a91-81e51f354acd",
   "metadata": {},
   "outputs": [],
   "source": [
    "top_coins = merged['Coin'].value_counts().head(10).index\n",
    "coin_data = merged[merged['Coin'].isin(top_coins)]\n",
    "\n",
    "plt.figure(figsize=(12,6))\n",
    "sns.countplot(y='Coin', hue='Classification', data=coin_data, order=top_coins, palette='Spectral')\n",
    "plt.title('Top 10 Coins Traded During Fear vs Greed')\n",
    "plt.xlabel('Number of Trades')\n",
    "plt.ylabel('Coin')\n",
    "plt.tight_layout()\n",
    "plt.savefig('outputs/top_coins_sentiment.png')\n",
    "plt.show()"
   ]
  },
  {
   "cell_type": "markdown",
   "id": "0e8b90f5-e55e-4967-980d-4a3427893a8c",
   "metadata": {},
   "source": [
    "### Top 10 Trader Accounts: PnL vs Sentiment"
   ]
  },
  {
   "cell_type": "code",
   "execution_count": null,
   "id": "9431e575-3cbe-4467-8666-0b6940ed1a06",
   "metadata": {},
   "outputs": [],
   "source": [
    "top_accounts = merged['Account'].value_counts().head(10).index\n",
    "top_traders = merged[merged['Account'].isin(top_accounts)]\n",
    "\n",
    "plt.figure(figsize=(14,6))\n",
    "sns.boxplot(x='Account', y='Closed PnL', hue='Classification', data=top_traders, palette='Set1')\n",
    "plt.title('Top Traders: PnL in Fear vs Greed')\n",
    "plt.xticks(rotation=45)\n",
    "plt.tight_layout()\n",
    "plt.savefig('outputs/top_traders_pnl_sentiment.png')\n",
    "plt.show()"
   ]
  },
  {
   "cell_type": "markdown",
   "id": "ab5e628e-3ca2-4ab7-87b4-66cc177ac878",
   "metadata": {},
   "source": [
    "### Line Plot of Fear-Greed Score Over Time"
   ]
  },
  {
   "cell_type": "code",
   "execution_count": null,
   "id": "ef15a50c-cd17-4592-b263-93a673a334eb",
   "metadata": {},
   "outputs": [],
   "source": [
    "plt.figure(figsize=(12,4))\n",
    "sentiment_plot = merged[['date', 'value']].drop_duplicates().sort_values('date')\n",
    "\n",
    "plt.plot(sentiment_plot['date'], sentiment_plot['value'], color='orange', linewidth=2)\n",
    "plt.title('Fear-Greed Score Over Time', fontsize=14)\n",
    "plt.xlabel('Date')\n",
    "plt.ylabel('Sentiment Score (0 = Extreme Fear, 100 = Extreme Greed)')\n",
    "plt.grid(True)\n",
    "plt.tight_layout()\n",
    "plt.savefig('outputs/fear_greed_score_timeseries.png')\n",
    "plt.show()"
   ]
  },
  {
   "cell_type": "code",
   "execution_count": null,
   "id": "776bc128-5458-4439-bca1-c556c7249d48",
   "metadata": {},
   "outputs": [],
   "source": []
  }
 ],
 "metadata": {
  "kernelspec": {
   "display_name": "Python 3 (ipykernel)",
   "language": "python",
   "name": "python3"
  },
  "language_info": {
   "codemirror_mode": {
    "name": "ipython",
    "version": 3
   },
   "file_extension": ".py",
   "mimetype": "text/x-python",
   "name": "python",
   "nbconvert_exporter": "python",
   "pygments_lexer": "ipython3",
   "version": "3.13.5"
  }
 },
 "nbformat": 4,
 "nbformat_minor": 5
}
